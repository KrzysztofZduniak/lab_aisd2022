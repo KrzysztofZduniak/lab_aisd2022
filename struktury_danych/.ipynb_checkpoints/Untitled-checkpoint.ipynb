{
 "cells": [
  {
   "cell_type": "code",
   "execution_count": 78,
   "id": "de46f3dd",
   "metadata": {},
   "outputs": [],
   "source": [
    "class TestInput:\n",
    "    def __init__(self):\n",
    "        self.start=500\n",
    "        self.step=200\n",
    "        self.end=200000\n",
    "        self.per_size=1\n",
    "    def __iter__(self):\n",
    "        self.current_size=self.start\n",
    "        self.i=self.per_size\n",
    "        return self\n",
    "    def __next__(self):\n",
    "        if self.i == 0:\n",
    "            self.current_size += self.step\n",
    "            self.i=self.per_size\n",
    "            if self.current_size > self.end:\n",
    "                raise StopIteration\n",
    "            return 0\n",
    "        self.i-=1\n",
    "        size = self.current_size\n",
    "        return size"
   ]
  },
  {
   "cell_type": "code",
   "execution_count": 79,
   "id": "29538eff",
   "metadata": {},
   "outputs": [
    {
     "name": "stdout",
     "output_type": "stream",
     "text": [
      "OK\n"
     ]
    }
   ],
   "source": [
    "import numpy as np\n",
    "import os\n",
    "\n",
    "data_file = open(\"data\", \"w\")\n",
    "\n",
    "test_input = TestInput()\n",
    "for n in test_input:\n",
    "    if n==0:\n",
    "        continue\n",
    "    array = np.random.choice(np.arange(0, n), replace=False, size=n)\n",
    "    data = ' '.join(str(x) for x in array)\n",
    "    data_file.write(str(n) + ' ' + data + '\\n')\n",
    "data_file.close()\n",
    "print(\"OK\")"
   ]
  },
  {
   "cell_type": "code",
   "execution_count": 48,
   "id": "44315124",
   "metadata": {},
   "outputs": [],
   "source": [
    "n=1000\n",
    "with open(\"data\", \"w\") as f:\n",
    "    array = np.random.choice(np.arange(0, n), replace=False, size=n)\n",
    "    data = ' '.join(str(x) for x in array)\n",
    "    f.write(data)"
   ]
  },
  {
   "cell_type": "code",
   "execution_count": null,
   "id": "e56a4fb0",
   "metadata": {},
   "outputs": [],
   "source": []
  }
 ],
 "metadata": {
  "kernelspec": {
   "display_name": "Python 3 (ipykernel)",
   "language": "python",
   "name": "python3"
  },
  "language_info": {
   "codemirror_mode": {
    "name": "ipython",
    "version": 3
   },
   "file_extension": ".py",
   "mimetype": "text/x-python",
   "name": "python",
   "nbconvert_exporter": "python",
   "pygments_lexer": "ipython3",
   "version": "3.8.10"
  }
 },
 "nbformat": 4,
 "nbformat_minor": 5
}
